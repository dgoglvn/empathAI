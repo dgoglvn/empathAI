{
 "cells": [
  {
   "cell_type": "code",
   "execution_count": 1,
   "metadata": {},
   "outputs": [
    {
     "name": "stderr",
     "output_type": "stream",
     "text": [
      "c:\\Users\\Diego\\OneDrive\\Desktop\\empathAI\\caldito\\Lib\\site-packages\\tqdm\\auto.py:21: TqdmWarning: IProgress not found. Please update jupyter and ipywidgets. See https://ipywidgets.readthedocs.io/en/stable/user_install.html\n",
      "  from .autonotebook import tqdm as notebook_tqdm\n"
     ]
    }
   ],
   "source": [
    "import numpy as np # to get the predictions\n",
    "from datasets import load_dataset\n",
    "from transformers import TrainingArguments, Trainer"
   ]
  },
  {
   "cell_type": "code",
   "execution_count": 2,
   "metadata": {},
   "outputs": [
    {
     "name": "stdout",
     "output_type": "stream",
     "text": [
      "DatasetDict({\n",
      "    train: Dataset({\n",
      "        features: ['conv_id', 'situation', 'emotion', 'conversations'],\n",
      "        num_rows: 19533\n",
      "    })\n",
      "    valid: Dataset({\n",
      "        features: ['conv_id', 'situation', 'emotion', 'conversations'],\n",
      "        num_rows: 2770\n",
      "    })\n",
      "    test: Dataset({\n",
      "        features: ['conv_id', 'situation', 'emotion', 'conversations'],\n",
      "        num_rows: 2547\n",
      "    })\n",
      "})\n",
      "('I remember going to see the fireworks with my best friend. It was the first time we ever spent time alone together. Although there was a lot of people, we felt like the only people in the world.', 'Was this a friend you were in love with, or just a best friend?')\n",
      "('Today,as i was leaving for work in the morning,i had a tire burst in the middle of a busy road. That scared the hell out of me!', 'Are you fine now?')\n"
     ]
    }
   ],
   "source": [
    "empathetic_dialogues_ds = load_dataset(\"Estwld/empathetic_dialogues_llm\")\n",
    "print(empathetic_dialogues_ds)\n",
    "\n",
    "def extract_conversation_pairs(example):\n",
    "    pairs = []\n",
    "    for i in range(len(example['conversations']) - 1):\n",
    "        if example['conversations'][i]['role'] == 'user' and example['conversations'][i + 1]['role'] == 'assistant':\n",
    "            user_input = example['conversations'][i]['content']\n",
    "            assistant_reponse = example['conversations'][i + 1]['content']\n",
    "            pairs.append((user_input, assistant_reponse))\n",
    "    return pairs\n",
    "\n",
    "def preprocess_dataset(dataset):\n",
    "    all_pairs = []\n",
    "    for example in dataset:\n",
    "        all_pairs.extend(extract_conversation_pairs(example))\n",
    "    return all_pairs\n",
    "\n",
    "train_pairs = preprocess_dataset(empathetic_dialogues_ds['train'])\n",
    "eval_pairs = preprocess_dataset(empathetic_dialogues_ds['valid'])\n",
    "print(train_pairs[0])\n",
    "print(eval_pairs[0])"
   ]
  },
  {
   "cell_type": "code",
   "execution_count": 3,
   "metadata": {},
   "outputs": [],
   "source": [
    "# load the tokenizer and model\n",
    "from transformers import AutoTokenizer, AutoModelForCausalLM\n",
    "\n",
    "model_name = \"microsoft/DialoGPT-medium\"\n",
    "tokenizer = AutoTokenizer.from_pretrained(model_name)\n",
    "model = AutoModelForCausalLM.from_pretrained(model_name)"
   ]
  },
  {
   "cell_type": "code",
   "execution_count": 4,
   "metadata": {},
   "outputs": [],
   "source": [
    "import torch\n",
    "\n",
    "tokenizer.pad_token = tokenizer.eos_token\n",
    "\n",
    "# tokenize the dataset\n",
    "def tokenize_pairs(pairs):\n",
    "    inputs = []\n",
    "    labels = []\n",
    "\n",
    "    for user_input, assistant_response in pairs:\n",
    "        encoded = tokenizer(\n",
    "            user_input,\n",
    "            assistant_response,\n",
    "            truncation=True,\n",
    "            padding='max_length',\n",
    "            max_length=512,\n",
    "            return_tensors='pt'\n",
    "        )\n",
    "        inputs.append(encoded['input_ids'])\n",
    "        labels.append(encoded['attention_mask'])\n",
    "    return {'input_ids': torch.cat(inputs), 'attention_mask': torch.cat(labels)}\n",
    "\n",
    "train_data = tokenize_pairs(train_pairs)\n",
    "eval_data = tokenize_pairs(eval_pairs)"
   ]
  },
  {
   "cell_type": "code",
   "execution_count": 5,
   "metadata": {},
   "outputs": [
    {
     "name": "stdout",
     "output_type": "stream",
     "text": [
      "True\n",
      "1\n",
      "NVIDIA GeForce RTX 4090\n",
      "cuda:0\n"
     ]
    }
   ],
   "source": [
    "print(torch.cuda.is_available())\n",
    "print(torch.cuda.device_count())\n",
    "print(torch.cuda.get_device_name(0))\n",
    "\n",
    "# ensure the correct GPU is being used (if multiple are available)\n",
    "device = torch.device(\"cuda\" if torch.cuda.is_available() else \"cpu\")\n",
    "x = torch.tensor([1.0, 2.0, 3.0]).to(device)\n",
    "print(x.device) # should print 'cuda:0'"
   ]
  },
  {
   "cell_type": "code",
   "execution_count": 6,
   "metadata": {},
   "outputs": [
    {
     "name": "stderr",
     "output_type": "stream",
     "text": [
      "c:\\Users\\Diego\\OneDrive\\Desktop\\empathAI\\caldito\\Lib\\site-packages\\transformers\\training_args.py:1594: FutureWarning: `evaluation_strategy` is deprecated and will be removed in version 4.46 of 🤗 Transformers. Use `eval_strategy` instead\n",
      "  warnings.warn(\n",
      "C:\\Users\\Diego\\AppData\\Local\\Temp\\ipykernel_7892\\3663566126.py:68: FutureWarning: `tokenizer` is deprecated and will be removed in version 5.0.0 for `Trainer.__init__`. Use `processing_class` instead.\n",
      "  trainer = Trainer(\n"
     ]
    }
   ],
   "source": [
    "from torch.utils.data import Dataset\n",
    "\n",
    "# define the custom Dataset class for processing dialog data\n",
    "class DialogDataset(Dataset):\n",
    "    def __init__(self, encodings):\n",
    "        \"\"\"\n",
    "        initializes the DialogDataset with the encoded text data.\n",
    "\n",
    "        :param encodings: a dictionary containing the encoded input data.\n",
    "                           it should contain keys like 'input_ids' and 'attention_mask'\n",
    "                           after tokenizing the raw text.\n",
    "        \"\"\"\n",
    "        # store the encodings (tokenized inputs) passed to the class\n",
    "        self.encodings = encodings\n",
    "\n",
    "    def __len__(self):\n",
    "        \"\"\" \n",
    "        returns the length of the dataset.\n",
    "\n",
    "        the length is determined by the number of input sequences in the 'input_ids'\n",
    "        of the encodings dictionary. all items (input sequences) should have the same length.\n",
    "\n",
    "        :return: the number of samples in the dataset.\n",
    "        \"\"\"\n",
    "        # return the number of samples, which is the same as the length of the 'input_ids' list\n",
    "        return len(self.encodings['input_ids'])\n",
    "        \n",
    "    def __getitem__(self, idx):\n",
    "        \"\"\"\n",
    "        retrieves a sample from the dataset at the specified index.\n",
    "\n",
    "        the method returns the tokenized input for a given index (sample)\n",
    "        in the dataset. the sample consists of input IDs and other related features\n",
    "        (e.g., attention mask_mask) wrapped as a tensor.\n",
    "\n",
    "        :param idx: the index of the sample to retrieve.\n",
    "        :return: a dictionary where each key is a feature (e.g., 'input_ids', 'attention_mask')\n",
    "        \"\"\"\n",
    "        # create and return a dictionary with each encoding key and its corresponding value\n",
    "        # at the specified index. the values are converted into PyTorch tensors.\n",
    "        item = {key: torch.tensor(val[idx]) for key, val in self.encodings.items()}\n",
    "        item['labels'] = item['input_ids'].clone() # labels should be the same as input_ids\n",
    "        return item\n",
    "        \n",
    "train_dataset = DialogDataset(train_data)\n",
    "eval_dataset = DialogDataset(eval_data)\n",
    "\n",
    "# define training arguments\n",
    "training_args = TrainingArguments(\n",
    "    output_dir=\"./results\",             # directory to save model checkpoints\n",
    "    num_train_epochs=3,                 # adjust based on convergence\n",
    "    per_device_train_batch_size=8,      # increase to 16 if vram allows, or decrease to 8\n",
    "    per_device_eval_batch_size=8, \n",
    "    gradient_accumulation_steps=2,      # helps if batch size is small\n",
    "    evaluation_strategy=\"epoch\",        # evaluate at the end of each epoch\n",
    "    save_strategy=\"epoch\",              # save model checkpoints each epoch\n",
    "    logging_dir=\"./logs\",               # logging directory\n",
    "    logging_steps=100,                  # adjust based on dataset size\n",
    "    learning_rate=5e-5,                 # starndard for transformer fine-tuning\n",
    "    warmup_steps=500,                   # helps stabilize training\n",
    "    weight_decay=0.01,                  # regularization\n",
    "    bf16=True,                          # enable mixed precision for speedup\n",
    "    save_total_limit=3,                 # keep last 3 checkpoints\n",
    "    eval_accumulation_steps=4,          # accumuluate loss over multiple steps\n",
    ")\n",
    "\n",
    "# create trainer\n",
    "trainer = Trainer(\n",
    "    model=model,\n",
    "    args=training_args,\n",
    "    train_dataset=train_dataset,\n",
    "    eval_dataset=eval_dataset,\n",
    "    tokenizer=tokenizer\n",
    ")"
   ]
  },
  {
   "cell_type": "code",
   "execution_count": 7,
   "metadata": {},
   "outputs": [
    {
     "name": "stderr",
     "output_type": "stream",
     "text": [
      "C:\\Users\\Diego\\AppData\\Local\\Temp\\ipykernel_7892\\3663566126.py:41: UserWarning: To copy construct from a tensor, it is recommended to use sourceTensor.clone().detach() or sourceTensor.clone().detach().requires_grad_(True), rather than torch.tensor(sourceTensor).\n",
      "  item = {key: torch.tensor(val[idx]) for key, val in self.encodings.items()}\n",
      "`loss_type=None` was set in the config but it is unrecognised.Using the default loss: `ForCausalLMLoss`.\n"
     ]
    },
    {
     "data": {
      "text/html": [
       "\n",
       "    <div>\n",
       "      \n",
       "      <progress value='1436' max='718' style='width:300px; height:20px; vertical-align: middle;'></progress>\n",
       "      [718/718 02:40]\n",
       "    </div>\n",
       "    "
      ],
      "text/plain": [
       "<IPython.core.display.HTML object>"
      ]
     },
     "metadata": {},
     "output_type": "display_data"
    }
   ],
   "source": [
    "# evaluate before fine-tuning\n",
    "pre_eval_results = trainer.evaluate(eval_dataset)"
   ]
  },
  {
   "cell_type": "code",
   "execution_count": 8,
   "metadata": {},
   "outputs": [],
   "source": [
    "torch.cuda.empty_cache()"
   ]
  },
  {
   "cell_type": "code",
   "execution_count": 9,
   "metadata": {},
   "outputs": [
    {
     "name": "stdout",
     "output_type": "stream",
     "text": [
      "{'eval_loss': 7.78450345993042, 'eval_model_preparation_time': 0.003, 'eval_runtime': 61.6063, 'eval_samples_per_second': 93.124, 'eval_steps_per_second': 11.655}\n"
     ]
    }
   ],
   "source": [
    "print(pre_eval_results)"
   ]
  },
  {
   "cell_type": "code",
   "execution_count": 17,
   "metadata": {},
   "outputs": [
    {
     "name": "stderr",
     "output_type": "stream",
     "text": [
      "C:\\Users\\Diego\\AppData\\Local\\Temp\\ipykernel_17992\\3663566126.py:41: UserWarning: To copy construct from a tensor, it is recommended to use sourceTensor.clone().detach() or sourceTensor.clone().detach().requires_grad_(True), rather than torch.tensor(sourceTensor).\n",
      "  item = {key: torch.tensor(val[idx]) for key, val in self.encodings.items()}\n"
     ]
    },
    {
     "data": {
      "text/html": [
       "\n",
       "    <div>\n",
       "      \n",
       "      <progress value='7548' max='7548' style='width:300px; height:20px; vertical-align: middle;'></progress>\n",
       "      [7548/7548 1:05:33, Epoch 3/3]\n",
       "    </div>\n",
       "    <table border=\"1\" class=\"dataframe\">\n",
       "  <thead>\n",
       " <tr style=\"text-align: left;\">\n",
       "      <th>Epoch</th>\n",
       "      <th>Training Loss</th>\n",
       "      <th>Validation Loss</th>\n",
       "      <th>Model Preparation Time</th>\n",
       "    </tr>\n",
       "  </thead>\n",
       "  <tbody>\n",
       "    <tr>\n",
       "      <td>1</td>\n",
       "      <td>0.186800</td>\n",
       "      <td>0.202340</td>\n",
       "      <td>0.004200</td>\n",
       "    </tr>\n",
       "    <tr>\n",
       "      <td>2</td>\n",
       "      <td>0.180300</td>\n",
       "      <td>0.199421</td>\n",
       "      <td>0.004200</td>\n",
       "    </tr>\n",
       "    <tr>\n",
       "      <td>3</td>\n",
       "      <td>0.162500</td>\n",
       "      <td>0.200169</td>\n",
       "      <td>0.004200</td>\n",
       "    </tr>\n",
       "  </tbody>\n",
       "</table><p>"
      ],
      "text/plain": [
       "<IPython.core.display.HTML object>"
      ]
     },
     "metadata": {},
     "output_type": "display_data"
    },
    {
     "name": "stderr",
     "output_type": "stream",
     "text": [
      "C:\\Users\\Diego\\AppData\\Local\\Temp\\ipykernel_17992\\3663566126.py:41: UserWarning: To copy construct from a tensor, it is recommended to use sourceTensor.clone().detach() or sourceTensor.clone().detach().requires_grad_(True), rather than torch.tensor(sourceTensor).\n",
      "  item = {key: torch.tensor(val[idx]) for key, val in self.encodings.items()}\n",
      "C:\\Users\\Diego\\AppData\\Local\\Temp\\ipykernel_17992\\3663566126.py:41: UserWarning: To copy construct from a tensor, it is recommended to use sourceTensor.clone().detach() or sourceTensor.clone().detach().requires_grad_(True), rather than torch.tensor(sourceTensor).\n",
      "  item = {key: torch.tensor(val[idx]) for key, val in self.encodings.items()}\n",
      "C:\\Users\\Diego\\AppData\\Local\\Temp\\ipykernel_17992\\3663566126.py:41: UserWarning: To copy construct from a tensor, it is recommended to use sourceTensor.clone().detach() or sourceTensor.clone().detach().requires_grad_(True), rather than torch.tensor(sourceTensor).\n",
      "  item = {key: torch.tensor(val[idx]) for key, val in self.encodings.items()}\n"
     ]
    },
    {
     "data": {
      "text/plain": [
       "TrainOutput(global_step=7548, training_loss=0.1953196435866687, metrics={'train_runtime': 3934.4505, 'train_samples_per_second': 30.693, 'train_steps_per_second': 1.918, 'total_flos': 1.1214896717050675e+17, 'train_loss': 0.1953196435866687, 'epoch': 3.0})"
      ]
     },
     "execution_count": 17,
     "metadata": {},
     "output_type": "execute_result"
    }
   ],
   "source": [
    "# fine-tune the model :)\n",
    "trainer.train()"
   ]
  },
  {
   "cell_type": "code",
   "execution_count": 18,
   "metadata": {},
   "outputs": [
    {
     "data": {
      "text/plain": [
       "('./trained_model\\\\tokenizer_config.json',\n",
       " './trained_model\\\\special_tokens_map.json',\n",
       " './trained_model\\\\vocab.json',\n",
       " './trained_model\\\\merges.txt',\n",
       " './trained_model\\\\added_tokens.json',\n",
       " './trained_model\\\\tokenizer.json')"
      ]
     },
     "execution_count": 18,
     "metadata": {},
     "output_type": "execute_result"
    }
   ],
   "source": [
    "model.save_pretrained(\"./trained_model\")\n",
    "tokenizer.save_pretrained(\"./trained_model\")"
   ]
  },
  {
   "cell_type": "code",
   "execution_count": 10,
   "metadata": {},
   "outputs": [
    {
     "name": "stderr",
     "output_type": "stream",
     "text": [
      "C:\\Users\\Diego\\AppData\\Local\\Temp\\ipykernel_7892\\3663566126.py:41: UserWarning: To copy construct from a tensor, it is recommended to use sourceTensor.clone().detach() or sourceTensor.clone().detach().requires_grad_(True), rather than torch.tensor(sourceTensor).\n",
      "  item = {key: torch.tensor(val[idx]) for key, val in self.encodings.items()}\n"
     ]
    },
    {
     "name": "stdout",
     "output_type": "stream",
     "text": [
      "{'eval_loss': 7.78450345993042, 'eval_model_preparation_time': 0.003, 'eval_runtime': 63.0127, 'eval_samples_per_second': 91.045, 'eval_steps_per_second': 11.395}\n"
     ]
    }
   ],
   "source": [
    "metrics = trainer.evaluate()\n",
    "print(metrics)"
   ]
  },
  {
   "cell_type": "code",
   "execution_count": 11,
   "metadata": {},
   "outputs": [
    {
     "name": "stderr",
     "output_type": "stream",
     "text": [
      "Device set to use cuda:0\n"
     ]
    },
    {
     "name": "stdout",
     "output_type": "stream",
     "text": [
      "[{'generated_text': \"I'm feeling overwhelmed with everything going on in my life. Can you help me figure out how to deal with it? I can try. What are you having trouble with?\"}]\n"
     ]
    }
   ],
   "source": [
    "from transformers import pipeline\n",
    "\n",
    "# for generating predictions\n",
    "chatbot = pipeline(\"text-generation\", model=\"./trained_model\", truncation=True, tokenizer=tokenizer)\n",
    "response = chatbot(\"I'm feeling overwhelmed with everything going on in my life. Can you help me figure out how to deal with it? \", max_length=100)\n",
    "print(response)"
   ]
  },
  {
   "cell_type": "code",
   "execution_count": 12,
   "metadata": {},
   "outputs": [
    {
     "name": "stderr",
     "output_type": "stream",
     "text": [
      "The attention mask is not set and cannot be inferred from input because pad token is same as eos token. As a consequence, you may observe unexpected behavior. Please pass your input's `attention_mask` to obtain reliable results.\n"
     ]
    },
    {
     "name": "stdout",
     "output_type": "stream",
     "text": [
      "EmpathAI: I am so happy that my son is starting school.That is great news. I hope he does well.\n",
      "EmpathAI: Me too. He is going to be a great student.\n",
      "EmpathAI: I hope so too. I hope he does well.\n",
      "EmpathAI: I hope so too. He is going to be a great student.\n",
      "EmpathAI: I hope so too. I hope he does well.\n"
     ]
    }
   ],
   "source": [
    "tokenizer = AutoTokenizer.from_pretrained(\"./trained_model\")\n",
    "model = AutoModelForCausalLM.from_pretrained(\"./trained_model\")\n",
    "\n",
    "# let's chat for 5 lines\n",
    "for step in range(5):\n",
    "    # encode the new user input, add the eos_token and return a tensor in Pytorch\n",
    "    new_user_input_ids = tokenizer.encode(input(\">> User:\") + tokenizer.eos_token, return_tensors='pt')\n",
    "\n",
    "    # append the new user input tokens to the chat history\n",
    "    bot_input_ids = torch.cat([chat_history_ids, new_user_input_ids], dim=-1) if step > 0 else new_user_input_ids\n",
    "\n",
    "    # generated a response while limiting the total chat history to 1000 tokens,\n",
    "    chat_history_ids = model.generate(bot_input_ids, max_length=1000, pad_token_id=tokenizer.eos_token_id)\n",
    "\n",
    "    # pretty print last output tokens from bot\n",
    "    print(\"EmpathAI: {}\".format(tokenizer.decode(chat_history_ids[:, bot_input_ids.shape[-1]:][0], skip_special_tokens=True)))"
   ]
  },
  {
   "cell_type": "markdown",
   "metadata": {},
   "source": [
    "### Human-Like-DPO-Dataset Fine-tuning"
   ]
  },
  {
   "cell_type": "code",
   "execution_count": 43,
   "metadata": {},
   "outputs": [],
   "source": [
    "# load the previously trained model\n",
    "model_name = \"./trained_model\"\n",
    "model = AutoModelForCausalLM.from_pretrained(model_name)\n",
    "tokenizer = AutoTokenizer.from_pretrained(model_name)"
   ]
  },
  {
   "cell_type": "code",
   "execution_count": 44,
   "metadata": {},
   "outputs": [
    {
     "name": "stdout",
     "output_type": "stream",
     "text": [
      "                                              prompt  \\\n",
      "0   Oh, I just saw the best meme - have you seen it?   \n",
      "1                   Do you have a go-to karaoke jam?   \n",
      "2  **Crafty corner** Are you good at any DIY proj...   \n",
      "3  What's your favorite type of cuisine to cook o...   \n",
      "4              Do you have a secret talent or skill?   \n",
      "\n",
      "                                              chosen  \\\n",
      "0  😂 Ah, no I haven't! I'm dying to know, what's ...   \n",
      "1  Oh, totally! 😄 I'm a sucker for a good ol' roc...   \n",
      "2  😊 I'm actually a big fan of DIY projects! I'm ...   \n",
      "3  Oh, man! I'm a total sucker for Italian food! ...   \n",
      "4  You know, I've always been fascinated by music...   \n",
      "\n",
      "                                            rejected  \n",
      "0  I'm an artificial intelligence language model,...  \n",
      "1  As a professional AI language model, I don't h...  \n",
      "2  Good day. As a continuously evolving artificia...  \n",
      "3  In accordance with my programming, I must emph...  \n",
      "4  Good day. As a professional AI language model,...  \n"
     ]
    }
   ],
   "source": [
    "import pandas as pd\n",
    "\n",
    "# load the new dataset\n",
    "human_like_dpo_ds = load_dataset(\"HumanLLMs/Human-Like-DPO-Dataset\")\n",
    "# convert the train split to a pandas DataFrame for easier manipulation\n",
    "train_df = pd.DataFrame(human_like_dpo_ds['train'])\n",
    "print(train_df.head())"
   ]
  },
  {
   "cell_type": "code",
   "execution_count": 56,
   "metadata": {},
   "outputs": [
    {
     "name": "stdout",
     "output_type": "stream",
     "text": [
      "r\n"
     ]
    }
   ],
   "source": [
    "# data preprocessing\n",
    "# train_df[\"input_text\"] = train_df[\"prompt\"] + \" \" + train_df[\"chosen\"]\n",
    "# train_df[\"target_text\"] = train_df[\"chosen\"]\n",
    "# train_df.drop(train_df.columns[2], axis=1, inplace=True) # remove the \"rejected\" column\n",
    "\n",
    "# print(train_df[[\"input_text\", \"target_text\"]].head())\n",
    "\n",
    "def preprocess_new_dataset(dataset):\n",
    "    all_pairs = [] # initializes an empty list that will store all conversation pairs\n",
    "\n",
    "    for example in dataset:\n",
    "        all_pairs.extend(example)\n",
    "\n",
    "    return all_pairs\n",
    "\n",
    "new_train_data = preprocess_new_dataset(train_df)\n",
    "print(new_train_data[1])"
   ]
  },
  {
   "cell_type": "code",
   "execution_count": 49,
   "metadata": {},
   "outputs": [
    {
     "name": "stdout",
     "output_type": "stream",
     "text": [
      "{'prompt': 'Oh, I just saw the best meme - have you seen it?', 'chosen': \"😂 Ah, no I haven't! I'm dying to know, what's the meme about? Is it a funny cat or a ridiculous situation? Spill the beans! 🤣\", 'input_text': \"Oh, I just saw the best meme - have you seen it? 😂 Ah, no I haven't! I'm dying to know, what's the meme about? Is it a funny cat or a ridiculous situation? Spill the beans! 🤣\", 'target_text': \"😂 Ah, no I haven't! I'm dying to know, what's the meme about? Is it a funny cat or a ridiculous situation? Spill the beans! 🤣\"}\n"
     ]
    }
   ],
   "source": [
    "from datasets import Dataset\n",
    "\n",
    "# convert the pandas DataFrame back to a Hugging Face dataset\n",
    "human_like_train_data = Dataset.from_pandas(train_df)\n",
    "print(human_like_train_data[0])"
   ]
  },
  {
   "cell_type": "code",
   "execution_count": null,
   "metadata": {},
   "outputs": [],
   "source": [
    "tokenizer.pad_token = tokenizer.eos_token\n",
    "\n",
    "# tokenize the dataset\n",
    "def tokenize_pairs(pairs):\n",
    "    inputs = []\n",
    "    labels = []\n",
    "\n",
    "    for user_input, assistant_response in pairs:\n",
    "        encoded = tokenizer(\n",
    "            user_input,\n",
    "            assistant_response,\n",
    "            truncation=True,\n",
    "            padding='max_length',\n",
    "            max_length=512,\n",
    "            return_tensors='pt'\n",
    "        )\n",
    "        inputs.append(encoded['input_ids'])\n",
    "        labels.append(encoded['attention_mask'])\n",
    "    return {'input_ids': torch.cat(inputs), 'attention_mask': torch.cat(labels)}\n",
    "\n",
    "train_data = tokenize_pairs(train_pairs)\n",
    "eval_data = tokenize_pairs(eval_pairs)"
   ]
  }
 ],
 "metadata": {
  "kernelspec": {
   "display_name": "caldito",
   "language": "python",
   "name": "python3"
  },
  "language_info": {
   "codemirror_mode": {
    "name": "ipython",
    "version": 3
   },
   "file_extension": ".py",
   "mimetype": "text/x-python",
   "name": "python",
   "nbconvert_exporter": "python",
   "pygments_lexer": "ipython3",
   "version": "3.12.2"
  }
 },
 "nbformat": 4,
 "nbformat_minor": 2
}
