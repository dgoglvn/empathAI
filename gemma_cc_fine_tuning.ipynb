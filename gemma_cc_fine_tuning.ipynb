{
 "cells": [
  {
   "cell_type": "markdown",
   "metadata": {},
   "source": [
    "# gemma 3 fine-tuning"
   ]
  },
  {
   "cell_type": "code",
   "execution_count": 1,
   "metadata": {},
   "outputs": [
    {
     "name": "stdout",
     "output_type": "stream",
     "text": [
      "Collecting git+https://github.com/huggingface/transformers@v4.49.0-Gemma-3\n",
      "  Cloning https://github.com/huggingface/transformers (to revision v4.49.0-Gemma-3) to c:\\users\\diego\\appdata\\local\\temp\\pip-req-build-nsn5085z\n",
      "  Resolved https://github.com/huggingface/transformers to commit 1c0f782fe5f983727ff245c4c1b3906f9b99eec2\n",
      "  Installing build dependencies: started\n",
      "  Installing build dependencies: finished with status 'done'\n",
      "  Getting requirements to build wheel: started\n",
      "  Getting requirements to build wheel: finished with status 'done'\n",
      "  Preparing metadata (pyproject.toml): started\n",
      "  Preparing metadata (pyproject.toml): finished with status 'done'\n",
      "Requirement already satisfied: filelock in c:\\users\\diego\\desktop\\project_aura\\caldito\\lib\\site-packages (from transformers==4.50.0.dev0) (3.18.0)\n",
      "Requirement already satisfied: huggingface-hub<1.0,>=0.26.0 in c:\\users\\diego\\desktop\\project_aura\\caldito\\lib\\site-packages (from transformers==4.50.0.dev0) (0.29.3)\n",
      "Requirement already satisfied: numpy>=1.17 in c:\\users\\diego\\desktop\\project_aura\\caldito\\lib\\site-packages (from transformers==4.50.0.dev0) (2.2.3)\n",
      "Requirement already satisfied: packaging>=20.0 in c:\\users\\diego\\desktop\\project_aura\\caldito\\lib\\site-packages (from transformers==4.50.0.dev0) (24.2)\n",
      "Requirement already satisfied: pyyaml>=5.1 in c:\\users\\diego\\desktop\\project_aura\\caldito\\lib\\site-packages (from transformers==4.50.0.dev0) (6.0.2)\n",
      "Requirement already satisfied: regex!=2019.12.17 in c:\\users\\diego\\desktop\\project_aura\\caldito\\lib\\site-packages (from transformers==4.50.0.dev0) (2024.11.6)\n",
      "Requirement already satisfied: requests in c:\\users\\diego\\desktop\\project_aura\\caldito\\lib\\site-packages (from transformers==4.50.0.dev0) (2.32.3)\n",
      "Requirement already satisfied: tokenizers<0.22,>=0.21 in c:\\users\\diego\\desktop\\project_aura\\caldito\\lib\\site-packages (from transformers==4.50.0.dev0) (0.21.1)\n",
      "Requirement already satisfied: safetensors>=0.4.1 in c:\\users\\diego\\desktop\\project_aura\\caldito\\lib\\site-packages (from transformers==4.50.0.dev0) (0.5.3)\n",
      "Requirement already satisfied: tqdm>=4.27 in c:\\users\\diego\\desktop\\project_aura\\caldito\\lib\\site-packages (from transformers==4.50.0.dev0) (4.67.1)\n",
      "Requirement already satisfied: fsspec>=2023.5.0 in c:\\users\\diego\\desktop\\project_aura\\caldito\\lib\\site-packages (from huggingface-hub<1.0,>=0.26.0->transformers==4.50.0.dev0) (2024.12.0)\n",
      "Requirement already satisfied: typing-extensions>=3.7.4.3 in c:\\users\\diego\\desktop\\project_aura\\caldito\\lib\\site-packages (from huggingface-hub<1.0,>=0.26.0->transformers==4.50.0.dev0) (4.12.2)\n",
      "Requirement already satisfied: colorama in c:\\users\\diego\\desktop\\project_aura\\caldito\\lib\\site-packages (from tqdm>=4.27->transformers==4.50.0.dev0) (0.4.6)\n",
      "Requirement already satisfied: charset-normalizer<4,>=2 in c:\\users\\diego\\desktop\\project_aura\\caldito\\lib\\site-packages (from requests->transformers==4.50.0.dev0) (3.4.1)\n",
      "Requirement already satisfied: idna<4,>=2.5 in c:\\users\\diego\\desktop\\project_aura\\caldito\\lib\\site-packages (from requests->transformers==4.50.0.dev0) (3.10)\n",
      "Requirement already satisfied: urllib3<3,>=1.21.1 in c:\\users\\diego\\desktop\\project_aura\\caldito\\lib\\site-packages (from requests->transformers==4.50.0.dev0) (2.3.0)\n",
      "Requirement already satisfied: certifi>=2017.4.17 in c:\\users\\diego\\desktop\\project_aura\\caldito\\lib\\site-packages (from requests->transformers==4.50.0.dev0) (2025.1.31)\n"
     ]
    },
    {
     "name": "stderr",
     "output_type": "stream",
     "text": [
      "  Running command git clone --filter=blob:none --quiet https://github.com/huggingface/transformers 'C:\\Users\\Diego\\AppData\\Local\\Temp\\pip-req-build-nsn5085z'\n",
      "  Running command git checkout -q 1c0f782fe5f983727ff245c4c1b3906f9b99eec2\n",
      "\n",
      "[notice] A new release of pip is available: 24.3.1 -> 25.0.1\n",
      "[notice] To update, run: python.exe -m pip install --upgrade pip\n"
     ]
    },
    {
     "name": "stdout",
     "output_type": "stream",
     "text": [
      "Looking in indexes: https://download.pytorch.org/whl/cu126\n",
      "Requirement already satisfied: torch in c:\\users\\diego\\desktop\\project_aura\\caldito\\lib\\site-packages (2.6.0+cu126)\n",
      "Requirement already satisfied: torchvision in c:\\users\\diego\\desktop\\project_aura\\caldito\\lib\\site-packages (0.21.0+cu126)\n",
      "Requirement already satisfied: torchaudio in c:\\users\\diego\\desktop\\project_aura\\caldito\\lib\\site-packages (2.6.0+cu126)\n",
      "Requirement already satisfied: filelock in c:\\users\\diego\\desktop\\project_aura\\caldito\\lib\\site-packages (from torch) (3.18.0)\n",
      "Requirement already satisfied: typing-extensions>=4.10.0 in c:\\users\\diego\\desktop\\project_aura\\caldito\\lib\\site-packages (from torch) (4.12.2)\n",
      "Requirement already satisfied: networkx in c:\\users\\diego\\desktop\\project_aura\\caldito\\lib\\site-packages (from torch) (3.3)\n",
      "Requirement already satisfied: jinja2 in c:\\users\\diego\\desktop\\project_aura\\caldito\\lib\\site-packages (from torch) (3.1.4)\n",
      "Requirement already satisfied: fsspec in c:\\users\\diego\\desktop\\project_aura\\caldito\\lib\\site-packages (from torch) (2024.12.0)\n",
      "Requirement already satisfied: setuptools in c:\\users\\diego\\desktop\\project_aura\\caldito\\lib\\site-packages (from torch) (70.2.0)\n",
      "Requirement already satisfied: sympy==1.13.1 in c:\\users\\diego\\desktop\\project_aura\\caldito\\lib\\site-packages (from torch) (1.13.1)\n",
      "Requirement already satisfied: mpmath<1.4,>=1.1.0 in c:\\users\\diego\\desktop\\project_aura\\caldito\\lib\\site-packages (from sympy==1.13.1->torch) (1.3.0)\n",
      "Requirement already satisfied: numpy in c:\\users\\diego\\desktop\\project_aura\\caldito\\lib\\site-packages (from torchvision) (2.2.3)\n",
      "Requirement already satisfied: pillow!=8.3.*,>=5.3.0 in c:\\users\\diego\\desktop\\project_aura\\caldito\\lib\\site-packages (from torchvision) (11.0.0)\n",
      "Requirement already satisfied: MarkupSafe>=2.0 in c:\\users\\diego\\desktop\\project_aura\\caldito\\lib\\site-packages (from jinja2->torch) (2.1.5)\n"
     ]
    },
    {
     "name": "stderr",
     "output_type": "stream",
     "text": [
      "\n",
      "[notice] A new release of pip is available: 24.3.1 -> 25.0.1\n",
      "[notice] To update, run: python.exe -m pip install --upgrade pip\n"
     ]
    },
    {
     "name": "stdout",
     "output_type": "stream",
     "text": [
      "Requirement already satisfied: datasets in c:\\users\\diego\\desktop\\project_aura\\caldito\\lib\\site-packages (3.4.0)\n",
      "Requirement already satisfied: filelock in c:\\users\\diego\\desktop\\project_aura\\caldito\\lib\\site-packages (from datasets) (3.18.0)\n",
      "Requirement already satisfied: numpy>=1.17 in c:\\users\\diego\\desktop\\project_aura\\caldito\\lib\\site-packages (from datasets) (2.2.3)\n",
      "Requirement already satisfied: pyarrow>=15.0.0 in c:\\users\\diego\\desktop\\project_aura\\caldito\\lib\\site-packages (from datasets) (19.0.1)\n",
      "Requirement already satisfied: dill<0.3.9,>=0.3.0 in c:\\users\\diego\\desktop\\project_aura\\caldito\\lib\\site-packages (from datasets) (0.3.8)\n",
      "Requirement already satisfied: pandas in c:\\users\\diego\\desktop\\project_aura\\caldito\\lib\\site-packages (from datasets) (2.2.3)\n",
      "Requirement already satisfied: requests>=2.32.2 in c:\\users\\diego\\desktop\\project_aura\\caldito\\lib\\site-packages (from datasets) (2.32.3)\n",
      "Requirement already satisfied: tqdm>=4.66.3 in c:\\users\\diego\\desktop\\project_aura\\caldito\\lib\\site-packages (from datasets) (4.67.1)\n",
      "Requirement already satisfied: xxhash in c:\\users\\diego\\desktop\\project_aura\\caldito\\lib\\site-packages (from datasets) (3.5.0)\n",
      "Requirement already satisfied: multiprocess<0.70.17 in c:\\users\\diego\\desktop\\project_aura\\caldito\\lib\\site-packages (from datasets) (0.70.16)\n",
      "Requirement already satisfied: fsspec<=2024.12.0,>=2023.1.0 in c:\\users\\diego\\desktop\\project_aura\\caldito\\lib\\site-packages (from fsspec[http]<=2024.12.0,>=2023.1.0->datasets) (2024.12.0)\n",
      "Requirement already satisfied: aiohttp in c:\\users\\diego\\desktop\\project_aura\\caldito\\lib\\site-packages (from datasets) (3.11.13)\n",
      "Requirement already satisfied: huggingface-hub>=0.24.0 in c:\\users\\diego\\desktop\\project_aura\\caldito\\lib\\site-packages (from datasets) (0.29.3)\n",
      "Requirement already satisfied: packaging in c:\\users\\diego\\desktop\\project_aura\\caldito\\lib\\site-packages (from datasets) (24.2)\n",
      "Requirement already satisfied: pyyaml>=5.1 in c:\\users\\diego\\desktop\\project_aura\\caldito\\lib\\site-packages (from datasets) (6.0.2)\n",
      "Requirement already satisfied: aiohappyeyeballs>=2.3.0 in c:\\users\\diego\\desktop\\project_aura\\caldito\\lib\\site-packages (from aiohttp->datasets) (2.6.1)\n",
      "Requirement already satisfied: aiosignal>=1.1.2 in c:\\users\\diego\\desktop\\project_aura\\caldito\\lib\\site-packages (from aiohttp->datasets) (1.3.2)\n",
      "Requirement already satisfied: attrs>=17.3.0 in c:\\users\\diego\\desktop\\project_aura\\caldito\\lib\\site-packages (from aiohttp->datasets) (25.3.0)\n",
      "Requirement already satisfied: frozenlist>=1.1.1 in c:\\users\\diego\\desktop\\project_aura\\caldito\\lib\\site-packages (from aiohttp->datasets) (1.5.0)\n",
      "Requirement already satisfied: multidict<7.0,>=4.5 in c:\\users\\diego\\desktop\\project_aura\\caldito\\lib\\site-packages (from aiohttp->datasets) (6.1.0)\n",
      "Requirement already satisfied: propcache>=0.2.0 in c:\\users\\diego\\desktop\\project_aura\\caldito\\lib\\site-packages (from aiohttp->datasets) (0.3.0)\n",
      "Requirement already satisfied: yarl<2.0,>=1.17.0 in c:\\users\\diego\\desktop\\project_aura\\caldito\\lib\\site-packages (from aiohttp->datasets) (1.18.3)\n",
      "Requirement already satisfied: typing-extensions>=3.7.4.3 in c:\\users\\diego\\desktop\\project_aura\\caldito\\lib\\site-packages (from huggingface-hub>=0.24.0->datasets) (4.12.2)\n",
      "Requirement already satisfied: charset-normalizer<4,>=2 in c:\\users\\diego\\desktop\\project_aura\\caldito\\lib\\site-packages (from requests>=2.32.2->datasets) (3.4.1)\n",
      "Requirement already satisfied: idna<4,>=2.5 in c:\\users\\diego\\desktop\\project_aura\\caldito\\lib\\site-packages (from requests>=2.32.2->datasets) (3.10)\n",
      "Requirement already satisfied: urllib3<3,>=1.21.1 in c:\\users\\diego\\desktop\\project_aura\\caldito\\lib\\site-packages (from requests>=2.32.2->datasets) (2.3.0)\n",
      "Requirement already satisfied: certifi>=2017.4.17 in c:\\users\\diego\\desktop\\project_aura\\caldito\\lib\\site-packages (from requests>=2.32.2->datasets) (2025.1.31)\n",
      "Requirement already satisfied: colorama in c:\\users\\diego\\desktop\\project_aura\\caldito\\lib\\site-packages (from tqdm>=4.66.3->datasets) (0.4.6)\n",
      "Requirement already satisfied: python-dateutil>=2.8.2 in c:\\users\\diego\\desktop\\project_aura\\caldito\\lib\\site-packages (from pandas->datasets) (2.9.0.post0)\n",
      "Requirement already satisfied: pytz>=2020.1 in c:\\users\\diego\\desktop\\project_aura\\caldito\\lib\\site-packages (from pandas->datasets) (2025.1)\n",
      "Requirement already satisfied: tzdata>=2022.7 in c:\\users\\diego\\desktop\\project_aura\\caldito\\lib\\site-packages (from pandas->datasets) (2025.1)\n",
      "Requirement already satisfied: six>=1.5 in c:\\users\\diego\\desktop\\project_aura\\caldito\\lib\\site-packages (from python-dateutil>=2.8.2->pandas->datasets) (1.17.0)\n"
     ]
    },
    {
     "name": "stderr",
     "output_type": "stream",
     "text": [
      "\n",
      "[notice] A new release of pip is available: 24.3.1 -> 25.0.1\n",
      "[notice] To update, run: python.exe -m pip install --upgrade pip\n"
     ]
    },
    {
     "name": "stdout",
     "output_type": "stream",
     "text": [
      "Requirement already satisfied: scikit-learn in c:\\users\\diego\\desktop\\project_aura\\caldito\\lib\\site-packages (1.6.1)\n",
      "Requirement already satisfied: pandas in c:\\users\\diego\\desktop\\project_aura\\caldito\\lib\\site-packages (2.2.3)\n",
      "Requirement already satisfied: numpy>=1.19.5 in c:\\users\\diego\\desktop\\project_aura\\caldito\\lib\\site-packages (from scikit-learn) (2.2.3)\n",
      "Requirement already satisfied: scipy>=1.6.0 in c:\\users\\diego\\desktop\\project_aura\\caldito\\lib\\site-packages (from scikit-learn) (1.15.2)\n",
      "Requirement already satisfied: joblib>=1.2.0 in c:\\users\\diego\\desktop\\project_aura\\caldito\\lib\\site-packages (from scikit-learn) (1.4.2)\n",
      "Requirement already satisfied: threadpoolctl>=3.1.0 in c:\\users\\diego\\desktop\\project_aura\\caldito\\lib\\site-packages (from scikit-learn) (3.6.0)\n",
      "Requirement already satisfied: python-dateutil>=2.8.2 in c:\\users\\diego\\desktop\\project_aura\\caldito\\lib\\site-packages (from pandas) (2.9.0.post0)\n",
      "Requirement already satisfied: pytz>=2020.1 in c:\\users\\diego\\desktop\\project_aura\\caldito\\lib\\site-packages (from pandas) (2025.1)\n",
      "Requirement already satisfied: tzdata>=2022.7 in c:\\users\\diego\\desktop\\project_aura\\caldito\\lib\\site-packages (from pandas) (2025.1)\n",
      "Requirement already satisfied: six>=1.5 in c:\\users\\diego\\desktop\\project_aura\\caldito\\lib\\site-packages (from python-dateutil>=2.8.2->pandas) (1.17.0)\n"
     ]
    },
    {
     "name": "stderr",
     "output_type": "stream",
     "text": [
      "\n",
      "[notice] A new release of pip is available: 24.3.1 -> 25.0.1\n",
      "[notice] To update, run: python.exe -m pip install --upgrade pip\n"
     ]
    }
   ],
   "source": [
    "!pip install git+https://github.com/huggingface/transformers@v4.49.0-Gemma-3\n",
    "!pip3 install torch torchvision torchaudio --index-url https://download.pytorch.org/whl/cu126\n",
    "!pip install datasets\n",
    "!pip install scikit-learn pandas"
   ]
  },
  {
   "cell_type": "markdown",
   "metadata": {},
   "source": [
    "## counsel chat dataset training"
   ]
  },
  {
   "cell_type": "code",
   "execution_count": 2,
   "metadata": {},
   "outputs": [
    {
     "name": "stderr",
     "output_type": "stream",
     "text": [
      "c:\\Users\\Diego\\Desktop\\project_aura\\caldito\\Lib\\site-packages\\tqdm\\auto.py:21: TqdmWarning: IProgress not found. Please update jupyter and ipywidgets. See https://ipywidgets.readthedocs.io/en/stable/user_install.html\n",
      "  from .autonotebook import tqdm as notebook_tqdm\n"
     ]
    }
   ],
   "source": [
    "from transformers import AutoTokenizer, AutoModelForCausalLM\n",
    "\n",
    "model_id = \"google/gemma-3-1b-it\"\n",
    "tokenizer = AutoTokenizer.from_pretrained(model_id)\n",
    "model = AutoModelForCausalLM.from_pretrained(model_id, attn_implementation='eager')"
   ]
  },
  {
   "cell_type": "code",
   "execution_count": 3,
   "metadata": {},
   "outputs": [
    {
     "name": "stderr",
     "output_type": "stream",
     "text": [
      "Repo card metadata block was not found. Setting CardData to empty.\n"
     ]
    }
   ],
   "source": [
    "from datasets import load_dataset\n",
    "\n",
    "counsel_chat_ds = load_dataset(\"nbertagnolli/counsel-chat\")"
   ]
  },
  {
   "cell_type": "code",
   "execution_count": 4,
   "metadata": {},
   "outputs": [
    {
     "name": "stdout",
     "output_type": "stream",
     "text": [
      "                                               train\n",
      "0  {'questionID': 0, 'questionTitle': 'Do I have ...\n",
      "1  {'questionID': 0, 'questionTitle': 'Do I have ...\n",
      "2  {'questionID': 0, 'questionTitle': 'Do I have ...\n",
      "3  {'questionID': 0, 'questionTitle': 'Do I have ...\n",
      "4  {'questionID': 0, 'questionTitle': 'Do I have ...\n",
      "{'questionID': 0, 'questionTitle': 'Do I have too many issues for counseling?', 'questionText': 'I have so many issues to address. I have a history of sexual abuse, I’m a breast cancer survivor and I am a lifetime insomniac.    I have a long history of depression and I’m beginning to have anxiety. I have low self esteem but I’ve been happily married for almost 35 years.\\n   I’ve never had counseling about any of this. Do I have too many issues to address in counseling?', 'questionLink': 'https://counselchat.com/questions/do-i-have-too-many-issues-for-counseling', 'topic': 'depression', 'therapistInfo': 'Jennifer MolinariHypnotherapist & Licensed Counselor', 'therapistURL': 'https://counselchat.com/therapists/jennifer-molinari', 'answerText': 'It is very common for\\xa0people to have multiple issues that they want to (and need to) address in counseling.\\xa0 I have had clients ask that same question and through more exploration, there is often an underlying fear that they\\xa0 \"can\\'t be helped\" or that they will \"be too much for their therapist.\" I don\\'t know if any of this rings true for you. But, most people have more than one problem in their lives and more often than not,\\xa0 people have numerous significant stressors in their lives.\\xa0 Let\\'s face it, life can be complicated! Therapists are completely ready and equipped to handle all of the issues small or large that a client presents in session. Most therapists over the first couple of sessions will help you prioritize the issues you are facing so that you start addressing the issues that are causing you the most distress.\\xa0 You can never have too many issues to address in counseling.\\xa0 All of the issues you mention above can be successfully worked through in counseling.', 'upvotes': 3, 'views': 1971}\n",
      "Do I have too many issues for counseling?\n"
     ]
    }
   ],
   "source": [
    "import pandas as pd\n",
    "\n",
    "counsel_chat_df = pd.DataFrame(counsel_chat_ds)\n",
    "print(counsel_chat_df.head())\n",
    "print(counsel_chat_df['train'][0])\n",
    "\n",
    "print(counsel_chat_df['train'][0]['questionTitle'])"
   ]
  },
  {
   "cell_type": "code",
   "execution_count": 5,
   "metadata": {},
   "outputs": [],
   "source": [
    "# removing keys from the dataset that are not needed\n",
    "for i in range(len(counsel_chat_df)):\n",
    "    counsel_chat_df[\"train\"][i].pop(\"questionID\")\n",
    "    counsel_chat_df[\"train\"][i].pop(\"questionLink\")\n",
    "    counsel_chat_df[\"train\"][i].pop(\"therapistInfo\")\n",
    "    counsel_chat_df[\"train\"][i].pop(\"therapistURL\")\n",
    "    counsel_chat_df[\"train\"][i].pop(\"upvotes\")\n",
    "    counsel_chat_df[\"train\"][i].pop(\"views\")"
   ]
  },
  {
   "cell_type": "code",
   "execution_count": 6,
   "metadata": {},
   "outputs": [
    {
     "name": "stdout",
     "output_type": "stream",
     "text": [
      "{'questionTitle': 'How can I help my girlfriend?', 'questionText': 'My girlfriend just quit drinking and she became really depressed. She told me that she wants to move. What can I do to help her? I want her to stay.', 'topic': 'depression', 'answerText': 'I would say talk to her about her depression. The best thing you can do is let her know that you are there for her as a support system. I would encourage her to talk more if it helps and encourage her to get move involved in doing activities she likes to do. Also, getting connected in a community of people is important to help with feeling depressed. Encourage her to speak with a therapist or counselor to address her depression as she has made a major change in her life by deciding to stop drinking. She may believe moving is the best to help with this. You can share with her that you want her to stay and express to her how you feel. Ultimately, you will have to respect her boundaries and the decision she chooses to make. She may want to move and this may be what she feels is best for her life. If she does choose to move that will be her decision. It sounds like she is trying to do what is going to make her happy. Maybe staying in the city she is currently in is causing her more feelings of sadness.'}\n"
     ]
    }
   ],
   "source": [
    "print(counsel_chat_df['train'][98])"
   ]
  },
  {
   "cell_type": "code",
   "execution_count": 7,
   "metadata": {},
   "outputs": [
    {
     "name": "stdout",
     "output_type": "stream",
     "text": [
      "{'question_title': 'Do I have too many issues for counseling?', 'topic': 'depression', 'conversation': [{'question': 'I have so many issues to address. I have a history of sexual abuse, I’m a breast cancer survivor and I am a lifetime insomniac.    I have a long history of depression and I’m beginning to have anxiety. I have low self esteem but I’ve been happily married for almost 35 years.\\n   I’ve never had counseling about any of this. Do I have too many issues to address in counseling?'}, {'answer': 'It is very common for\\xa0people to have multiple issues that they want to (and need to) address in counseling.\\xa0 I have had clients ask that same question and through more exploration, there is often an underlying fear that they\\xa0 \"can\\'t be helped\" or that they will \"be too much for their therapist.\" I don\\'t know if any of this rings true for you. But, most people have more than one problem in their lives and more often than not,\\xa0 people have numerous significant stressors in their lives.\\xa0 Let\\'s face it, life can be complicated! Therapists are completely ready and equipped to handle all of the issues small or large that a client presents in session. Most therapists over the first couple of sessions will help you prioritize the issues you are facing so that you start addressing the issues that are causing you the most distress.\\xa0 You can never have too many issues to address in counseling.\\xa0 All of the issues you mention above can be successfully worked through in counseling.'}]}\n",
      "{'question_title': 'Do I have too many issues for counseling?', 'topic': 'depression', 'conversation': [{'question': 'I have so many issues to address. I have a history of sexual abuse, I’m a breast cancer survivor and I am a lifetime insomniac.    I have a long history of depression and I’m beginning to have anxiety. I have low self esteem but I’ve been happily married for almost 35 years.\\n   I’ve never had counseling about any of this. Do I have too many issues to address in counseling?'}, {'answer': 'I\\'ve never heard of someone having \"too many issues\" for therapy to be effective. A competent therapist will assist you in identifying the root causes of your problems and treat those first. If the underlying issues are addressed, your various symptoms should improve. For example, a history of sexual trauma can cause sleep disturbances, depression, anxiety, and low self-worth. I would start by addressing the underlying trauma using EMDR Therapy. EMDR allows the client to process unresolved trauma and to address negative core beliefs that develop in response to the trauma. By addressing these negative beliefs about ourselves, we can improve our self-esteem and feelings of self-worth.'}]}\n",
      "{'question_title': 'Do I have too many issues for counseling?', 'topic': 'depression', 'conversation': [{'question': 'I have so many issues to address. I have a history of sexual abuse, I’m a breast cancer survivor and I am a lifetime insomniac.    I have a long history of depression and I’m beginning to have anxiety. I have low self esteem but I’ve been happily married for almost 35 years.\\n   I’ve never had counseling about any of this. Do I have too many issues to address in counseling?'}, {'answer': 'Absolutely not.\\xa0 I strongly recommending working on one issue/need at a time.\\xa0 In therapy you will set smart goals and objectives that will help you reach your goals.\\xa0 I see you as a survivor and not a victim.\\xa0 Best wishes to you.'}]}\n",
      "{'question_title': 'Do I have too many issues for counseling?', 'topic': 'depression', 'conversation': [{'question': 'I have so many issues to address. I have a history of sexual abuse, I’m a breast cancer survivor and I am a lifetime insomniac.    I have a long history of depression and I’m beginning to have anxiety. I have low self esteem but I’ve been happily married for almost 35 years.\\n   I’ve never had counseling about any of this. Do I have too many issues to address in counseling?'}, {'answer': 'Let me start by saying there are never too many concerns that you can bring into counselling. In fact, most people who come to see me for counselling have more than one issue they would like to work on in psychotherapy and most times these are all interconnected. In counselling, we work together, collaboratively, to figure out which issues you would like to address first and then together we develop an individualized plan of care. Basically, it’s like a road map of where you want to go, how are you going to get there, looking at stopovers, some scenic routes others possibly not so scenic, however, necessary. Of course, these plans can also change due to internal (what we have control over like our thoughts, feelings and behaviours) or external reasons (those things that are outside our control). I would encourage you to take the next step and reach out to a professional you can trust and build rapport with by co-journeying through whatever concerns you have by examining what has been working so far as you have learned to cope with some of your issues like insomnia, depression and anxiety, as well as being a breast cancer survivor. Then to help you by developing new coping strategies. Psychotherapy can be such a powerful tool to help you get to where it is you want to be. I know you can do it and you will see first-hand how psychotherapy will help you to move past these points in your life where you are feeling stuck.\\xa0I like to quote Nike where their motto is,\\xa0“just do it.”\\xa0You can do it.'}]}\n",
      "{'question_title': 'Do I have too many issues for counseling?', 'topic': 'depression', 'conversation': [{'question': 'I have so many issues to address. I have a history of sexual abuse, I’m a breast cancer survivor and I am a lifetime insomniac.    I have a long history of depression and I’m beginning to have anxiety. I have low self esteem but I’ve been happily married for almost 35 years.\\n   I’ve never had counseling about any of this. Do I have too many issues to address in counseling?'}, {'answer': \"I just want to acknowledge you for the courage to take the step to get support. It can be overwhelming to have so many things going on, and it might be hard to figure out where to start. I truly believe that one of the biggest advantages to working with a therapist is that a therapist can help you prioritize and work with those issues that need to be addressed first and foremost. A therapist will help you with the flow of dealing with different aspects that come up. Some issues may even be related to one another. For examples, some clients with depression may also feel anxiety about their depression. Also, rest assured, many clients go to therapy for multiple issues. We are complex beings. I encourage you to reach out to a therapist and talk about this concern. You may find out that even upon the first meeting you will feel hopeful that you will be able to create a plan with a therapist to address your issues. I don't believe you have too many issues, I think starting sooner rather than later will put you on the path to healing. Good luck. I am rooting for you!\"}]}\n",
      "{'question_title': 'Do I have too many issues for counseling?', 'topic': 'depression', 'conversation': [{'question': 'I have so many issues to address. I have a history of sexual abuse, I’m a breast cancer survivor and I am a lifetime insomniac.    I have a long history of depression and I’m beginning to have anxiety. I have low self esteem but I’ve been happily married for almost 35 years.\\n   I’ve never had counseling about any of this. Do I have too many issues to address in counseling?'}, {'answer': \"It's not really a question of whether you have too many issues for counseling but more what would you like to work on in counseling? You control the direction of sessions and depending on how you're feeling in a particular day can predict what direction that session takes. If you want to work on all the issues you've listed it will just take some dedication on your part to see through the counseling long enough to find a resolution to each of the issues that is satisfactory to you. You work at your own pace in counseling and it does seem like you may be overwhelmed with the ever-growing list. But you may just be in search of self improvement and making yourself better, which is a great thing. It seems as though you may need some form of resolution to what has happened in the past and to work through the trauma you have experienced. That may be the base of your counseling needs in which self esteem and depression/anxiety may fall underneath it as well. If you want to start counseling don't let what you need to work on overwhelm you. Find the counselor that best fits with you and together you both can tackle any issue.\"}]}\n",
      "\n",
      "I have so many issues to address. I have a history of sexual abuse, I’m a breast cancer survivor and I am a lifetime insomniac.    I have a long history of depression and I’m beginning to have anxiety. I have low self esteem but I’ve been happily married for almost 35 years.\n",
      "   I’ve never had counseling about any of this. Do I have too many issues to address in counseling?\n"
     ]
    }
   ],
   "source": [
    "from typing import List, Dict, Any\n",
    "# convert dataset to conversation pairs\n",
    "def preprocess_data(dataset: Dict[str, Any]) -> List[Dict[str, Any]]:\n",
    "    all_samples: List[Dict[str, Any]] = []\n",
    "\n",
    "    conversation = dataset['train']\n",
    "\n",
    "    for i in range(len(conversation)):\n",
    "        question = conversation[i]['questionText']\n",
    "        answer = conversation[i]['answerText']\n",
    "        question_title = conversation[i]['questionTitle']\n",
    "        topic = conversation[i]['topic']\n",
    "\n",
    "        all_samples.append({\n",
    "            \"question_title\": question_title,\n",
    "            \"topic\": topic,\n",
    "            \"conversation\": [\n",
    "                {\"question\": question},\n",
    "                {\"answer\": answer}\n",
    "            ]\n",
    "        })\n",
    "\n",
    "    return all_samples\n",
    "\n",
    "new_cc_dataset = preprocess_data(counsel_chat_df)\n",
    "for i in range(0, 6):\n",
    "    print(new_cc_dataset[i])\n",
    "\n",
    "print(f\"\\n{new_cc_dataset[0]['conversation'][0]['question']}\")"
   ]
  },
  {
   "cell_type": "code",
   "execution_count": 8,
   "metadata": {},
   "outputs": [
    {
     "name": "stdout",
     "output_type": "stream",
     "text": [
      "{'prompt': 'Question Title: Do I have too many issues for counseling?, Topic: depression, Question: I have so many issues to address. I have a history of sexual abuse, I’m a breast cancer survivor and I am a lifetime insomniac.    I have a long history of depression and I’m beginning to have anxiety. I have low self esteem but I’ve been happily married for almost 35 years.\\n   I’ve never had counseling about any of this. Do I have too many issues to address in counseling?', 'response': 'It is very common for people to have multiple issues that they want to (and need to) address in counseling. I have had clients ask that same question and through more exploration, there is often an underlying fear that they \"can\\'t be helped\" or that they will \"be too much for their therapist.\" I don\\'t know if any of this rings true for you. But, most people have more than one problem in their lives and more often than not, people have numerous significant stressors in their lives. Let\\'s face it, life can be complicated! Therapists are completely ready and equipped to handle all of the issues small or large that a client presents in session. Most therapists over the first couple of sessions will help you prioritize the issues you are facing so that you start addressing the issues that are causing you the most distress. You can never have too many issues to address in counseling. All of the issues you mention above can be successfully worked through in counseling.'}\n"
     ]
    }
   ],
   "source": [
    "# flatten list of samples\n",
    "def prepare_data_for_trainer(all_samples: List[Dict[str, Any]]) -> List[Dict[str, str]]:\n",
    "    samples: List[Dict[str, str]] = []\n",
    "\n",
    "    for sample in all_samples:\n",
    "        question_text = str(sample['conversation'][0]['question'])\n",
    "        answer_text = str(sample['conversation'][1]['answer'])\n",
    "\n",
    "        # replace the non-breaking space character\n",
    "        answer_text = answer_text.replace(\"\\xa0\", \" \")\n",
    "        # fix escaped quotes\n",
    "        answer_text = answer_text.replace(r\"\\'\", \"'\")\n",
    "        # replace multiple spaces with a single space\n",
    "        answer_text = \" \".join(answer_text.split())\n",
    "\n",
    "        prompt_with_metadata = f\"Question Title: {sample['question_title']}, Topic: {sample['topic']}, Question: {question_text}\"\n",
    "\n",
    "        samples.append({\n",
    "            \"prompt\": prompt_with_metadata,\n",
    "            \"response\": answer_text\n",
    "        })\n",
    "\n",
    "    return samples\n",
    "\n",
    "all_samples = prepare_data_for_trainer(new_cc_dataset)\n",
    "print(all_samples[0])"
   ]
  },
  {
   "cell_type": "code",
   "execution_count": 9,
   "metadata": {},
   "outputs": [
    {
     "name": "stdout",
     "output_type": "stream",
     "text": [
      "Training samples: 2247\n",
      "Validation samples: 250\n",
      "Test samples: 278\n"
     ]
    }
   ],
   "source": [
    "# split the data\n",
    "# in this case the dataset only has a training split without separate test or validation splits.\n",
    "# here i created these splits myself using scikit-learn\n",
    "from sklearn.model_selection import train_test_split\n",
    "\n",
    "# train and test splits\n",
    "train_samples, test_samples = train_test_split(all_samples, test_size=0.1, random_state=42)\n",
    "# creating a validation split from the training data\n",
    "train_samples, val_samples = train_test_split(train_samples, test_size=0.1, random_state=42)\n",
    "\n",
    "print(f\"Training samples: {len(train_samples)}\")\n",
    "print(f\"Validation samples: {len(val_samples)}\")\n",
    "print(f\"Test samples: {len(test_samples)}\")"
   ]
  },
  {
   "cell_type": "code",
   "execution_count": 10,
   "metadata": {},
   "outputs": [
    {
     "name": "stdout",
     "output_type": "stream",
     "text": [
      "<class 'list'>\n"
     ]
    }
   ],
   "source": [
    "# convert to hugging face Datasets\n",
    "from datasets import Dataset\n",
    "print(type(train_samples))\n",
    "\n",
    "cc_train_dataset = Dataset.from_list(train_samples)\n",
    "cc_val_dataset = Dataset.from_list(val_samples)\n",
    "cc_test_dataset = Dataset.from_list(test_samples)"
   ]
  },
  {
   "cell_type": "code",
   "execution_count": 11,
   "metadata": {},
   "outputs": [
    {
     "name": "stderr",
     "output_type": "stream",
     "text": [
      "Map: 100%|██████████| 2247/2247 [00:00<00:00, 6024.73 examples/s]\n",
      "Map: 100%|██████████| 250/250 [00:00<00:00, 6427.03 examples/s]\n",
      "Map: 100%|██████████| 278/278 [00:00<00:00, 5331.90 examples/s]\n"
     ]
    }
   ],
   "source": [
    "from typing import Union\n",
    "import torch\n",
    "\n",
    "tokenizer.pad_token = tokenizer.eos_token\n",
    "\n",
    "# tokenization function\n",
    "def tokenize_cc_data(samples: Dict[str, List[str]]) -> Dict[str, torch.Tensor]:\n",
    "    # combine prompt and response for training\n",
    "    inputs: List[str] = samples['prompt']\n",
    "    targets: List[str] = samples['response']\n",
    "\n",
    "    combined_texts: List[str] = [f\"{input_text}\\n{target_text}\" for input_text, target_text in zip(inputs, targets)]\n",
    "\n",
    "    # tokenize with padding and truncation\n",
    "    tokenized_outputs: Dict[str, torch.Tensor] = tokenizer(\n",
    "        combined_texts,\n",
    "        padding=\"max_length\",\n",
    "        truncation=True,\n",
    "        max_length=512,\n",
    "        return_tensors=\"pt\"\n",
    "    )\n",
    "\n",
    "    tokenized_outputs['labels'] = tokenized_outputs['input_ids'].clone()\n",
    "\n",
    "    return tokenized_outputs\n",
    "\n",
    "tokenized_cc_train = cc_train_dataset.map(tokenize_cc_data, batched=True)\n",
    "tokenized_cc_val = cc_val_dataset.map(tokenize_cc_data, batched=True)\n",
    "tokenized_cc_test = cc_test_dataset.map(tokenize_cc_data, batched=True)"
   ]
  },
  {
   "cell_type": "code",
   "execution_count": 12,
   "metadata": {},
   "outputs": [
    {
     "name": "stdout",
     "output_type": "stream",
     "text": [
      "Requirement already satisfied: accelerate in c:\\users\\diego\\desktop\\project_aura\\caldito\\lib\\site-packages (1.5.2)\n",
      "Requirement already satisfied: numpy<3.0.0,>=1.17 in c:\\users\\diego\\desktop\\project_aura\\caldito\\lib\\site-packages (from accelerate) (2.2.3)\n",
      "Requirement already satisfied: packaging>=20.0 in c:\\users\\diego\\desktop\\project_aura\\caldito\\lib\\site-packages (from accelerate) (24.2)\n",
      "Requirement already satisfied: psutil in c:\\users\\diego\\desktop\\project_aura\\caldito\\lib\\site-packages (from accelerate) (7.0.0)\n",
      "Requirement already satisfied: pyyaml in c:\\users\\diego\\desktop\\project_aura\\caldito\\lib\\site-packages (from accelerate) (6.0.2)\n",
      "Requirement already satisfied: torch>=2.0.0 in c:\\users\\diego\\desktop\\project_aura\\caldito\\lib\\site-packages (from accelerate) (2.6.0+cu126)\n",
      "Requirement already satisfied: huggingface-hub>=0.21.0 in c:\\users\\diego\\desktop\\project_aura\\caldito\\lib\\site-packages (from accelerate) (0.29.3)\n",
      "Requirement already satisfied: safetensors>=0.4.3 in c:\\users\\diego\\desktop\\project_aura\\caldito\\lib\\site-packages (from accelerate) (0.5.3)\n",
      "Requirement already satisfied: filelock in c:\\users\\diego\\desktop\\project_aura\\caldito\\lib\\site-packages (from huggingface-hub>=0.21.0->accelerate) (3.18.0)\n",
      "Requirement already satisfied: fsspec>=2023.5.0 in c:\\users\\diego\\desktop\\project_aura\\caldito\\lib\\site-packages (from huggingface-hub>=0.21.0->accelerate) (2024.12.0)\n",
      "Requirement already satisfied: requests in c:\\users\\diego\\desktop\\project_aura\\caldito\\lib\\site-packages (from huggingface-hub>=0.21.0->accelerate) (2.32.3)\n",
      "Requirement already satisfied: tqdm>=4.42.1 in c:\\users\\diego\\desktop\\project_aura\\caldito\\lib\\site-packages (from huggingface-hub>=0.21.0->accelerate) (4.67.1)\n",
      "Requirement already satisfied: typing-extensions>=3.7.4.3 in c:\\users\\diego\\desktop\\project_aura\\caldito\\lib\\site-packages (from huggingface-hub>=0.21.0->accelerate) (4.12.2)\n",
      "Requirement already satisfied: networkx in c:\\users\\diego\\desktop\\project_aura\\caldito\\lib\\site-packages (from torch>=2.0.0->accelerate) (3.3)\n",
      "Requirement already satisfied: jinja2 in c:\\users\\diego\\desktop\\project_aura\\caldito\\lib\\site-packages (from torch>=2.0.0->accelerate) (3.1.4)\n",
      "Requirement already satisfied: setuptools in c:\\users\\diego\\desktop\\project_aura\\caldito\\lib\\site-packages (from torch>=2.0.0->accelerate) (70.2.0)\n",
      "Requirement already satisfied: sympy==1.13.1 in c:\\users\\diego\\desktop\\project_aura\\caldito\\lib\\site-packages (from torch>=2.0.0->accelerate) (1.13.1)\n",
      "Requirement already satisfied: mpmath<1.4,>=1.1.0 in c:\\users\\diego\\desktop\\project_aura\\caldito\\lib\\site-packages (from sympy==1.13.1->torch>=2.0.0->accelerate) (1.3.0)\n",
      "Requirement already satisfied: colorama in c:\\users\\diego\\desktop\\project_aura\\caldito\\lib\\site-packages (from tqdm>=4.42.1->huggingface-hub>=0.21.0->accelerate) (0.4.6)\n",
      "Requirement already satisfied: MarkupSafe>=2.0 in c:\\users\\diego\\desktop\\project_aura\\caldito\\lib\\site-packages (from jinja2->torch>=2.0.0->accelerate) (2.1.5)\n",
      "Requirement already satisfied: charset-normalizer<4,>=2 in c:\\users\\diego\\desktop\\project_aura\\caldito\\lib\\site-packages (from requests->huggingface-hub>=0.21.0->accelerate) (3.4.1)\n",
      "Requirement already satisfied: idna<4,>=2.5 in c:\\users\\diego\\desktop\\project_aura\\caldito\\lib\\site-packages (from requests->huggingface-hub>=0.21.0->accelerate) (3.10)\n",
      "Requirement already satisfied: urllib3<3,>=1.21.1 in c:\\users\\diego\\desktop\\project_aura\\caldito\\lib\\site-packages (from requests->huggingface-hub>=0.21.0->accelerate) (2.3.0)\n",
      "Requirement already satisfied: certifi>=2017.4.17 in c:\\users\\diego\\desktop\\project_aura\\caldito\\lib\\site-packages (from requests->huggingface-hub>=0.21.0->accelerate) (2025.1.31)\n"
     ]
    },
    {
     "name": "stderr",
     "output_type": "stream",
     "text": [
      "\n",
      "[notice] A new release of pip is available: 24.3.1 -> 25.0.1\n",
      "[notice] To update, run: python.exe -m pip install --upgrade pip\n"
     ]
    }
   ],
   "source": [
    "!pip install accelerate"
   ]
  },
  {
   "cell_type": "code",
   "execution_count": null,
   "metadata": {},
   "outputs": [
    {
     "name": "stderr",
     "output_type": "stream",
     "text": [
      "c:\\Users\\Diego\\Desktop\\project_aura\\caldito\\Lib\\site-packages\\transformers\\training_args.py:1611: FutureWarning: `evaluation_strategy` is deprecated and will be removed in version 4.46 of 🤗 Transformers. Use `eval_strategy` instead\n",
      "  warnings.warn(\n",
      "C:\\Users\\Diego\\AppData\\Local\\Temp\\ipykernel_8284\\1940084603.py:25: FutureWarning: `tokenizer` is deprecated and will be removed in version 5.0.0 for `Trainer.__init__`. Use `processing_class` instead.\n",
      "  trainer = Trainer(\n"
     ]
    }
   ],
   "source": [
    "from transformers import TrainingArguments, Trainer\n",
    "\n",
    "# define training arguments\n",
    "training_args = TrainingArguments(\n",
    "    output_dir=\"./cc_results\",         # directory to save model checkpoints\n",
    "    num_train_epochs=3,                 # adjust based on convergence\n",
    "    per_device_train_batch_size=4,      # increase to 16 if vram allows, or decrease to 8\n",
    "    per_device_eval_batch_size=4, \n",
    "    gradient_accumulation_steps=2,      # helps if batch size is small\n",
    "    evaluation_strategy=\"epoch\",        # evaluate at the end of each epoch\n",
    "    save_strategy=\"epoch\",              # save model checkpoints each epoch\n",
    "    logging_dir=\"./logs/cc_logs\",               # logging directory\n",
    "    logging_steps=100,                  # adjust based on dataset size\n",
    "    learning_rate=5e-5,                 # starndard for transformer fine-tuning\n",
    "    warmup_steps=500,                   # helps stabilize training\n",
    "    weight_decay=0.01,                  # regularization\n",
    "    bf16=False,                          # enable mixed precision for speedup\n",
    "    fp16=True,\n",
    "    save_total_limit=3,                 # keep last 3 checkpoints\n",
    "    eval_accumulation_steps=4,          # accumuluate loss over multiple steps\n",
    "    logging_first_step=True,            # log first step\n",
    ")\n",
    "\n",
    "# create trainer\n",
    "trainer = Trainer(\n",
    "    model=model,\n",
    "    args=training_args,\n",
    "    train_dataset=tokenized_cc_train,\n",
    "    eval_dataset=tokenized_cc_val,\n",
    "    tokenizer=tokenizer\n",
    ")"
   ]
  },
  {
   "cell_type": "code",
   "execution_count": 14,
   "metadata": {},
   "outputs": [
    {
     "name": "stdout",
     "output_type": "stream",
     "text": [
      "CUDA available: True\n",
      "CUDA device count: 1\n",
      "Current CUDA device: 0\n",
      "CUDA device name: NVIDIA GeForce RTX 4090\n"
     ]
    }
   ],
   "source": [
    "print(f\"CUDA available: {torch.cuda.is_available()}\")\n",
    "print(f\"CUDA device count: {torch.cuda.device_count()}\")\n",
    "print(f\"Current CUDA device: {torch.cuda.current_device()}\")\n",
    "print(f\"CUDA device name: {torch.cuda.get_device_name(0)}\")"
   ]
  },
  {
   "cell_type": "code",
   "execution_count": 15,
   "metadata": {},
   "outputs": [
    {
     "name": "stderr",
     "output_type": "stream",
     "text": [
      "c:\\Users\\Diego\\Desktop\\project_aura\\caldito\\Lib\\site-packages\\torch\\cuda\\memory.py:391: FutureWarning: torch.cuda.reset_max_memory_allocated now calls torch.cuda.reset_peak_memory_stats, which resets /all/ peak memory stats.\n",
      "  warnings.warn(\n",
      "c:\\Users\\Diego\\Desktop\\project_aura\\caldito\\Lib\\site-packages\\torch\\cuda\\memory.py:417: FutureWarning: torch.cuda.reset_max_memory_cached now calls torch.cuda.reset_peak_memory_stats, which resets /all/ peak memory stats.\n",
      "  warnings.warn(\n"
     ]
    }
   ],
   "source": [
    "import gc\n",
    "\n",
    "gc.collect()\n",
    "torch.cuda.empty_cache()\n",
    "torch.cuda.reset_max_memory_allocated()\n",
    "torch.cuda.reset_max_memory_cached()"
   ]
  },
  {
   "cell_type": "code",
   "execution_count": 17,
   "metadata": {},
   "outputs": [
    {
     "data": {
      "text/html": [
       "\n",
       "    <div>\n",
       "      \n",
       "      <progress value='8' max='420' style='width:300px; height:20px; vertical-align: middle;'></progress>\n",
       "      [  8/420 03:20 < 3:49:48, 0.03 it/s, Epoch 0.05/3]\n",
       "    </div>\n",
       "    <table border=\"1\" class=\"dataframe\">\n",
       "  <thead>\n",
       " <tr style=\"text-align: left;\">\n",
       "      <th>Epoch</th>\n",
       "      <th>Training Loss</th>\n",
       "      <th>Validation Loss</th>\n",
       "    </tr>\n",
       "  </thead>\n",
       "  <tbody>\n",
       "  </tbody>\n",
       "</table><p>"
      ],
      "text/plain": [
       "<IPython.core.display.HTML object>"
      ]
     },
     "metadata": {},
     "output_type": "display_data"
    },
    {
     "ename": "KeyboardInterrupt",
     "evalue": "",
     "output_type": "error",
     "traceback": [
      "\u001b[31m---------------------------------------------------------------------------\u001b[39m",
      "\u001b[31mKeyboardInterrupt\u001b[39m                         Traceback (most recent call last)",
      "\u001b[36mCell\u001b[39m\u001b[36m \u001b[39m\u001b[32mIn[17]\u001b[39m\u001b[32m, line 2\u001b[39m\n\u001b[32m      1\u001b[39m \u001b[38;5;66;03m# train the model :)\u001b[39;00m\n\u001b[32m----> \u001b[39m\u001b[32m2\u001b[39m \u001b[43mtrainer\u001b[49m\u001b[43m.\u001b[49m\u001b[43mtrain\u001b[49m\u001b[43m(\u001b[49m\u001b[43m)\u001b[49m\n",
      "\u001b[36mFile \u001b[39m\u001b[32mc:\\Users\\Diego\\Desktop\\project_aura\\caldito\\Lib\\site-packages\\transformers\\trainer.py:2250\u001b[39m, in \u001b[36mTrainer.train\u001b[39m\u001b[34m(self, resume_from_checkpoint, trial, ignore_keys_for_eval, **kwargs)\u001b[39m\n\u001b[32m   2248\u001b[39m         hf_hub_utils.enable_progress_bars()\n\u001b[32m   2249\u001b[39m \u001b[38;5;28;01melse\u001b[39;00m:\n\u001b[32m-> \u001b[39m\u001b[32m2250\u001b[39m     \u001b[38;5;28;01mreturn\u001b[39;00m \u001b[43minner_training_loop\u001b[49m\u001b[43m(\u001b[49m\n\u001b[32m   2251\u001b[39m \u001b[43m        \u001b[49m\u001b[43margs\u001b[49m\u001b[43m=\u001b[49m\u001b[43margs\u001b[49m\u001b[43m,\u001b[49m\n\u001b[32m   2252\u001b[39m \u001b[43m        \u001b[49m\u001b[43mresume_from_checkpoint\u001b[49m\u001b[43m=\u001b[49m\u001b[43mresume_from_checkpoint\u001b[49m\u001b[43m,\u001b[49m\n\u001b[32m   2253\u001b[39m \u001b[43m        \u001b[49m\u001b[43mtrial\u001b[49m\u001b[43m=\u001b[49m\u001b[43mtrial\u001b[49m\u001b[43m,\u001b[49m\n\u001b[32m   2254\u001b[39m \u001b[43m        \u001b[49m\u001b[43mignore_keys_for_eval\u001b[49m\u001b[43m=\u001b[49m\u001b[43mignore_keys_for_eval\u001b[49m\u001b[43m,\u001b[49m\n\u001b[32m   2255\u001b[39m \u001b[43m    \u001b[49m\u001b[43m)\u001b[49m\n",
      "\u001b[36mFile \u001b[39m\u001b[32mc:\\Users\\Diego\\Desktop\\project_aura\\caldito\\Lib\\site-packages\\transformers\\trainer.py:2561\u001b[39m, in \u001b[36mTrainer._inner_training_loop\u001b[39m\u001b[34m(self, batch_size, args, resume_from_checkpoint, trial, ignore_keys_for_eval)\u001b[39m\n\u001b[32m   2554\u001b[39m context = (\n\u001b[32m   2555\u001b[39m     functools.partial(\u001b[38;5;28mself\u001b[39m.accelerator.no_sync, model=model)\n\u001b[32m   2556\u001b[39m     \u001b[38;5;28;01mif\u001b[39;00m i != \u001b[38;5;28mlen\u001b[39m(batch_samples) - \u001b[32m1\u001b[39m\n\u001b[32m   2557\u001b[39m     \u001b[38;5;129;01mand\u001b[39;00m \u001b[38;5;28mself\u001b[39m.accelerator.distributed_type != DistributedType.DEEPSPEED\n\u001b[32m   2558\u001b[39m     \u001b[38;5;28;01melse\u001b[39;00m contextlib.nullcontext\n\u001b[32m   2559\u001b[39m )\n\u001b[32m   2560\u001b[39m \u001b[38;5;28;01mwith\u001b[39;00m context():\n\u001b[32m-> \u001b[39m\u001b[32m2561\u001b[39m     tr_loss_step = \u001b[38;5;28;43mself\u001b[39;49m\u001b[43m.\u001b[49m\u001b[43mtraining_step\u001b[49m\u001b[43m(\u001b[49m\u001b[43mmodel\u001b[49m\u001b[43m,\u001b[49m\u001b[43m \u001b[49m\u001b[43minputs\u001b[49m\u001b[43m,\u001b[49m\u001b[43m \u001b[49m\u001b[43mnum_items_in_batch\u001b[49m\u001b[43m)\u001b[49m\n\u001b[32m   2563\u001b[39m \u001b[38;5;28;01mif\u001b[39;00m (\n\u001b[32m   2564\u001b[39m     args.logging_nan_inf_filter\n\u001b[32m   2565\u001b[39m     \u001b[38;5;129;01mand\u001b[39;00m \u001b[38;5;129;01mnot\u001b[39;00m is_torch_xla_available()\n\u001b[32m   2566\u001b[39m     \u001b[38;5;129;01mand\u001b[39;00m (torch.isnan(tr_loss_step) \u001b[38;5;129;01mor\u001b[39;00m torch.isinf(tr_loss_step))\n\u001b[32m   2567\u001b[39m ):\n\u001b[32m   2568\u001b[39m     \u001b[38;5;66;03m# if loss is nan or inf simply add the average of previous logged losses\u001b[39;00m\n\u001b[32m   2569\u001b[39m     tr_loss = tr_loss + tr_loss / (\u001b[32m1\u001b[39m + \u001b[38;5;28mself\u001b[39m.state.global_step - \u001b[38;5;28mself\u001b[39m._globalstep_last_logged)\n",
      "\u001b[36mFile \u001b[39m\u001b[32mc:\\Users\\Diego\\Desktop\\project_aura\\caldito\\Lib\\site-packages\\transformers\\trainer.py:3753\u001b[39m, in \u001b[36mTrainer.training_step\u001b[39m\u001b[34m(***failed resolving arguments***)\u001b[39m\n\u001b[32m   3750\u001b[39m \u001b[38;5;28;01mif\u001b[39;00m \u001b[38;5;28mself\u001b[39m.accelerator.distributed_type == DistributedType.DEEPSPEED:\n\u001b[32m   3751\u001b[39m     kwargs[\u001b[33m\"\u001b[39m\u001b[33mscale_wrt_gas\u001b[39m\u001b[33m\"\u001b[39m] = \u001b[38;5;28;01mFalse\u001b[39;00m\n\u001b[32m-> \u001b[39m\u001b[32m3753\u001b[39m \u001b[38;5;28;43mself\u001b[39;49m\u001b[43m.\u001b[49m\u001b[43maccelerator\u001b[49m\u001b[43m.\u001b[49m\u001b[43mbackward\u001b[49m\u001b[43m(\u001b[49m\u001b[43mloss\u001b[49m\u001b[43m,\u001b[49m\u001b[43m \u001b[49m\u001b[43m*\u001b[49m\u001b[43m*\u001b[49m\u001b[43mkwargs\u001b[49m\u001b[43m)\u001b[49m\n\u001b[32m   3755\u001b[39m \u001b[38;5;28;01mreturn\u001b[39;00m loss.detach()\n",
      "\u001b[36mFile \u001b[39m\u001b[32mc:\\Users\\Diego\\Desktop\\project_aura\\caldito\\Lib\\site-packages\\accelerate\\accelerator.py:2355\u001b[39m, in \u001b[36mAccelerator.backward\u001b[39m\u001b[34m(self, loss, **kwargs)\u001b[39m\n\u001b[32m   2353\u001b[39m     \u001b[38;5;28;01mreturn\u001b[39;00m\n\u001b[32m   2354\u001b[39m \u001b[38;5;28;01melif\u001b[39;00m \u001b[38;5;28mself\u001b[39m.scaler \u001b[38;5;129;01mis\u001b[39;00m \u001b[38;5;129;01mnot\u001b[39;00m \u001b[38;5;28;01mNone\u001b[39;00m:\n\u001b[32m-> \u001b[39m\u001b[32m2355\u001b[39m     \u001b[38;5;28;43mself\u001b[39;49m\u001b[43m.\u001b[49m\u001b[43mscaler\u001b[49m\u001b[43m.\u001b[49m\u001b[43mscale\u001b[49m\u001b[43m(\u001b[49m\u001b[43mloss\u001b[49m\u001b[43m)\u001b[49m\u001b[43m.\u001b[49m\u001b[43mbackward\u001b[49m\u001b[43m(\u001b[49m\u001b[43m*\u001b[49m\u001b[43m*\u001b[49m\u001b[43mkwargs\u001b[49m\u001b[43m)\u001b[49m\n\u001b[32m   2356\u001b[39m \u001b[38;5;28;01melif\u001b[39;00m learning_rate \u001b[38;5;129;01mis\u001b[39;00m \u001b[38;5;129;01mnot\u001b[39;00m \u001b[38;5;28;01mNone\u001b[39;00m \u001b[38;5;129;01mand\u001b[39;00m \u001b[38;5;28mself\u001b[39m.has_lomo_optimizer:\n\u001b[32m   2357\u001b[39m     \u001b[38;5;28mself\u001b[39m.lomo_backward(loss, learning_rate)\n",
      "\u001b[36mFile \u001b[39m\u001b[32mc:\\Users\\Diego\\Desktop\\project_aura\\caldito\\Lib\\site-packages\\torch\\_tensor.py:626\u001b[39m, in \u001b[36mTensor.backward\u001b[39m\u001b[34m(self, gradient, retain_graph, create_graph, inputs)\u001b[39m\n\u001b[32m    616\u001b[39m \u001b[38;5;28;01mif\u001b[39;00m has_torch_function_unary(\u001b[38;5;28mself\u001b[39m):\n\u001b[32m    617\u001b[39m     \u001b[38;5;28;01mreturn\u001b[39;00m handle_torch_function(\n\u001b[32m    618\u001b[39m         Tensor.backward,\n\u001b[32m    619\u001b[39m         (\u001b[38;5;28mself\u001b[39m,),\n\u001b[32m   (...)\u001b[39m\u001b[32m    624\u001b[39m         inputs=inputs,\n\u001b[32m    625\u001b[39m     )\n\u001b[32m--> \u001b[39m\u001b[32m626\u001b[39m \u001b[43mtorch\u001b[49m\u001b[43m.\u001b[49m\u001b[43mautograd\u001b[49m\u001b[43m.\u001b[49m\u001b[43mbackward\u001b[49m\u001b[43m(\u001b[49m\n\u001b[32m    627\u001b[39m \u001b[43m    \u001b[49m\u001b[38;5;28;43mself\u001b[39;49m\u001b[43m,\u001b[49m\u001b[43m \u001b[49m\u001b[43mgradient\u001b[49m\u001b[43m,\u001b[49m\u001b[43m \u001b[49m\u001b[43mretain_graph\u001b[49m\u001b[43m,\u001b[49m\u001b[43m \u001b[49m\u001b[43mcreate_graph\u001b[49m\u001b[43m,\u001b[49m\u001b[43m \u001b[49m\u001b[43minputs\u001b[49m\u001b[43m=\u001b[49m\u001b[43minputs\u001b[49m\n\u001b[32m    628\u001b[39m \u001b[43m\u001b[49m\u001b[43m)\u001b[49m\n",
      "\u001b[36mFile \u001b[39m\u001b[32mc:\\Users\\Diego\\Desktop\\project_aura\\caldito\\Lib\\site-packages\\torch\\autograd\\__init__.py:347\u001b[39m, in \u001b[36mbackward\u001b[39m\u001b[34m(tensors, grad_tensors, retain_graph, create_graph, grad_variables, inputs)\u001b[39m\n\u001b[32m    342\u001b[39m     retain_graph = create_graph\n\u001b[32m    344\u001b[39m \u001b[38;5;66;03m# The reason we repeat the same comment below is that\u001b[39;00m\n\u001b[32m    345\u001b[39m \u001b[38;5;66;03m# some Python versions print out the first line of a multi-line function\u001b[39;00m\n\u001b[32m    346\u001b[39m \u001b[38;5;66;03m# calls in the traceback and some print out the last line\u001b[39;00m\n\u001b[32m--> \u001b[39m\u001b[32m347\u001b[39m \u001b[43m_engine_run_backward\u001b[49m\u001b[43m(\u001b[49m\n\u001b[32m    348\u001b[39m \u001b[43m    \u001b[49m\u001b[43mtensors\u001b[49m\u001b[43m,\u001b[49m\n\u001b[32m    349\u001b[39m \u001b[43m    \u001b[49m\u001b[43mgrad_tensors_\u001b[49m\u001b[43m,\u001b[49m\n\u001b[32m    350\u001b[39m \u001b[43m    \u001b[49m\u001b[43mretain_graph\u001b[49m\u001b[43m,\u001b[49m\n\u001b[32m    351\u001b[39m \u001b[43m    \u001b[49m\u001b[43mcreate_graph\u001b[49m\u001b[43m,\u001b[49m\n\u001b[32m    352\u001b[39m \u001b[43m    \u001b[49m\u001b[43minputs\u001b[49m\u001b[43m,\u001b[49m\n\u001b[32m    353\u001b[39m \u001b[43m    \u001b[49m\u001b[43mallow_unreachable\u001b[49m\u001b[43m=\u001b[49m\u001b[38;5;28;43;01mTrue\u001b[39;49;00m\u001b[43m,\u001b[49m\n\u001b[32m    354\u001b[39m \u001b[43m    \u001b[49m\u001b[43maccumulate_grad\u001b[49m\u001b[43m=\u001b[49m\u001b[38;5;28;43;01mTrue\u001b[39;49;00m\u001b[43m,\u001b[49m\n\u001b[32m    355\u001b[39m \u001b[43m\u001b[49m\u001b[43m)\u001b[49m\n",
      "\u001b[36mFile \u001b[39m\u001b[32mc:\\Users\\Diego\\Desktop\\project_aura\\caldito\\Lib\\site-packages\\torch\\autograd\\graph.py:823\u001b[39m, in \u001b[36m_engine_run_backward\u001b[39m\u001b[34m(t_outputs, *args, **kwargs)\u001b[39m\n\u001b[32m    821\u001b[39m     unregister_hooks = _register_logging_hooks_on_whole_graph(t_outputs)\n\u001b[32m    822\u001b[39m \u001b[38;5;28;01mtry\u001b[39;00m:\n\u001b[32m--> \u001b[39m\u001b[32m823\u001b[39m     \u001b[38;5;28;01mreturn\u001b[39;00m \u001b[43mVariable\u001b[49m\u001b[43m.\u001b[49m\u001b[43m_execution_engine\u001b[49m\u001b[43m.\u001b[49m\u001b[43mrun_backward\u001b[49m\u001b[43m(\u001b[49m\u001b[43m  \u001b[49m\u001b[38;5;66;43;03m# Calls into the C++ engine to run the backward pass\u001b[39;49;00m\n\u001b[32m    824\u001b[39m \u001b[43m        \u001b[49m\u001b[43mt_outputs\u001b[49m\u001b[43m,\u001b[49m\u001b[43m \u001b[49m\u001b[43m*\u001b[49m\u001b[43margs\u001b[49m\u001b[43m,\u001b[49m\u001b[43m \u001b[49m\u001b[43m*\u001b[49m\u001b[43m*\u001b[49m\u001b[43mkwargs\u001b[49m\n\u001b[32m    825\u001b[39m \u001b[43m    \u001b[49m\u001b[43m)\u001b[49m  \u001b[38;5;66;03m# Calls into the C++ engine to run the backward pass\u001b[39;00m\n\u001b[32m    826\u001b[39m \u001b[38;5;28;01mfinally\u001b[39;00m:\n\u001b[32m    827\u001b[39m     \u001b[38;5;28;01mif\u001b[39;00m attach_logging_hooks:\n",
      "\u001b[31mKeyboardInterrupt\u001b[39m: "
     ]
    }
   ],
   "source": [
    "# train the model :)\n",
    "trainer.train()"
   ]
  },
  {
   "cell_type": "code",
   "execution_count": null,
   "metadata": {},
   "outputs": [],
   "source": []
  }
 ],
 "metadata": {
  "kernelspec": {
   "display_name": "caldito",
   "language": "python",
   "name": "python3"
  },
  "language_info": {
   "codemirror_mode": {
    "name": "ipython",
    "version": 3
   },
   "file_extension": ".py",
   "mimetype": "text/x-python",
   "name": "python",
   "nbconvert_exporter": "python",
   "pygments_lexer": "ipython3",
   "version": "3.13.2"
  }
 },
 "nbformat": 4,
 "nbformat_minor": 2
}
